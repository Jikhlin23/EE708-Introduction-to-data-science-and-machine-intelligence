{
  "nbformat": 4,
  "nbformat_minor": 0,
  "metadata": {
    "colab": {
      "private_outputs": true,
      "provenance": []
    },
    "kernelspec": {
      "name": "python3",
      "display_name": "Python 3"
    },
    "language_info": {
      "name": "python"
    }
  },
  "cells": [
    {
      "cell_type": "code",
      "execution_count": null,
      "metadata": {
        "id": "Cygy3-TCsNwG"
      },
      "outputs": [],
      "source": [
        "import pandas as pd\n",
        "import numpy as np\n",
        "import matplotlib.pyplot as plt\n",
        "import seaborn as sns\n",
        "\n",
        "# Load dataset\n",
        "df = pd.read_csv(\"A1.csv\")"
      ]
    },
    {
      "cell_type": "code",
      "source": [
        "# Frequency of samples for each class\n",
        "class_counts = df['Classes'].value_counts()\n",
        "print(\"Frequency of samples for each class:\")\n",
        "print(class_counts)\n",
        "\n"
      ],
      "metadata": {
        "id": "EwUchMImsciM"
      },
      "execution_count": null,
      "outputs": []
    },
    {
      "cell_type": "code",
      "source": [
        "# Data description and interquartile range\n",
        "print(\"\\nData Description:\")\n",
        "print(df.describe())"
      ],
      "metadata": {
        "id": "xJ-fJqOCseIB"
      },
      "execution_count": null,
      "outputs": []
    },
    {
      "cell_type": "code",
      "source": [
        "\n",
        "IQR = df[['Feature 1', 'Feature 2', 'Feature 3', 'Feature 4']].quantile(0.75) - df[['Feature 1', 'Feature 2', 'Feature 3', 'Feature 4']].quantile(0.25)\n",
        "print(\"\\nInterquartile Range:\")\n",
        "print(IQR)"
      ],
      "metadata": {
        "id": "L1H_KX8HsflC"
      },
      "execution_count": null,
      "outputs": []
    },
    {
      "cell_type": "code",
      "source": [
        "# Histogram of Feature 1 for class A\n",
        "plt.figure(figsize=(8, 6))\n",
        "df[df['Classes'] == 'A']['Feature 1'].hist(bins=20, alpha=0.7, color='blue', edgecolor='black')\n",
        "plt.xlabel('Feature 1')\n",
        "plt.ylabel('Frequency')\n",
        "plt.title('Histogram of Feature 1 for Class A')\n",
        "plt.show()"
      ],
      "metadata": {
        "id": "4urNKw5lshfs"
      },
      "execution_count": null,
      "outputs": []
    },
    {
      "cell_type": "code",
      "source": [
        "# Box plot for Feature 2 for each class\n",
        "plt.figure(figsize=(8, 6))\n",
        "sns.boxplot(x='Classes', y='Feature 2', data=df)\n",
        "plt.title('Box Plot of Feature 2 for Each Class')\n",
        "plt.show()"
      ],
      "metadata": {
        "id": "kV_wOSeLsi5Q"
      },
      "execution_count": null,
      "outputs": []
    },
    {
      "cell_type": "code",
      "source": [
        "# Violin plot for Feature 3 for each class\n",
        "plt.figure(figsize=(8, 6))\n",
        "sns.violinplot(x='Classes', y='Feature 3', data=df)\n",
        "plt.title('Violin Plot of Feature 3 for Each Class')\n",
        "plt.show()\n"
      ],
      "metadata": {
        "id": "aP2wexE3skY0"
      },
      "execution_count": null,
      "outputs": []
    },
    {
      "cell_type": "code",
      "source": [
        "# Scatter plot between Feature 1 and Feature 3 with classes\n",
        "plt.figure(figsize=(8, 6))\n",
        "sns.scatterplot(x='Feature 1', y='Feature 3', hue='Classes', data=df, palette='deep')\n",
        "plt.title('Scatter Plot of Feature 1 vs Feature 3')\n",
        "plt.show()"
      ],
      "metadata": {
        "id": "3Fa_Yx6IsmIB"
      },
      "execution_count": null,
      "outputs": []
    },
    {
      "cell_type": "code",
      "source": [
        "# Contour plot between Feature 1 and Feature 4 with classes\n",
        "plt.figure(figsize=(8, 6))\n",
        "for class_name, group in df.groupby('Classes'):\n",
        "    sns.kdeplot(x=group['Feature 1'], y=group['Feature 4'], levels=5, label=class_name)\n",
        "plt.xlabel('Feature 1')\n",
        "plt.ylabel('Feature 4')\n",
        "plt.title('Contour Plot of Feature 1 vs Feature 4')\n",
        "plt.legend()\n",
        "plt.show()"
      ],
      "metadata": {
        "id": "jErg17bosnxl"
      },
      "execution_count": null,
      "outputs": []
    },
    {
      "cell_type": "code",
      "source": [
        "# Hexagonal bin plot for class A between Feature 2 and 4\n",
        "plt.figure(figsize=(8, 6))\n",
        "df_A = df[df['Classes'] == 'A']\n",
        "plt.hexbin(df_A['Feature 2'], df_A['Feature 4'], gridsize=30, cmap='Blues', mincnt=1)\n",
        "plt.colorbar(label='Count')\n",
        "plt.xlabel('Feature 2')\n",
        "plt.ylabel('Feature 4')\n",
        "plt.title('Hexagonal Bin Plot of Feature 2 vs Feature 4 for Class A')\n",
        "plt.show()\n"
      ],
      "metadata": {
        "id": "aQpg7J1nspAN"
      },
      "execution_count": null,
      "outputs": []
    },
    {
      "cell_type": "code",
      "source": [
        "# Correlation matrix for the four features\n",
        "plt.figure(figsize=(8, 6))\n",
        "corr = df[['Feature 1', 'Feature 2', 'Feature 3', 'Feature 4']].corr()\n",
        "sns.heatmap(corr, annot=True, cmap='coolwarm', fmt='.2f', linewidths=0.5)\n",
        "plt.title('Correlation Matrix')\n",
        "plt.show()"
      ],
      "metadata": {
        "id": "DWqPSuFGsqMB"
      },
      "execution_count": null,
      "outputs": []
    },
    {
      "cell_type": "code",
      "source": [
        "# Pair plot for the four features with classes\n",
        "a= sns.pairplot(df, vars=['Feature 1', 'Feature 2', 'Feature 3', 'Feature 4'], hue='Classes', palette='deep')\n",
        "a.savefig(\"pairplot_features_classes.png\")\n",
        "plt.show()\n"
      ],
      "metadata": {
        "id": "mNzdAyxhsrb3"
      },
      "execution_count": null,
      "outputs": []
    }
  ]
}